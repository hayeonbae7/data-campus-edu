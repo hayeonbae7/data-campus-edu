{
 "cells": [
  {
   "cell_type": "code",
   "execution_count": 1,
   "metadata": {
    "ExecuteTime": {
     "end_time": "2023-03-18T13:01:49.672929Z",
     "start_time": "2023-03-18T13:01:49.661960Z"
    }
   },
   "outputs": [
    {
     "data": {
      "text/html": [
       "<style>.container { width:100% !important; }</style>"
      ],
      "text/plain": [
       "<IPython.core.display.HTML object>"
      ]
     },
     "metadata": {},
     "output_type": "display_data"
    },
    {
     "data": {
      "text/html": [
       "<style>\n",
       "div.CodeMirror, div.CodeMirror pre, div.CodeMirror-code,\n",
       "div.output_area pre, div.output_wrapper pre,\n",
       ".text_cell_render, .text_cell_render *\n",
       "{ font-family: Consolas; font-size: 15pt; line-height: 140%;}\n",
       "</style>"
      ],
      "text/plain": [
       "<IPython.core.display.HTML object>"
      ]
     },
     "metadata": {},
     "output_type": "display_data"
    }
   ],
   "source": [
    "from IPython.display import display, HTML, Markdown\n",
    "display(HTML(\"<style>.container { width:100% !important; }</style>\"))\n",
    "display(HTML(\"\"\"<style>\n",
    "div.CodeMirror, div.CodeMirror pre, div.CodeMirror-code,\n",
    "div.output_area pre, div.output_wrapper pre,\n",
    ".text_cell_render, .text_cell_render *\n",
    "{ font-family: Consolas; font-size: 15pt; line-height: 140%;}\n",
    "</style>\"\"\"))"
   ]
  },
  {
   "cell_type": "markdown",
   "metadata": {},
   "source": [
    "# 제출 방법\n",
    "1. jupyter notebook 파일을 제출한다.\n",
    "1. 제출 후 파일을 삭제 하시오."
   ]
  },
  {
   "cell_type": "markdown",
   "metadata": {},
   "source": [
    "# 문제 0 \n",
    "requests package를 import 하고 이름을 rq로 바꾸시오."
   ]
  },
  {
   "cell_type": "code",
   "execution_count": 2,
   "metadata": {
    "ExecuteTime": {
     "end_time": "2023-03-18T13:02:33.823752Z",
     "start_time": "2023-03-18T13:02:33.631691Z"
    }
   },
   "outputs": [],
   "source": [
    "import requests as rq"
   ]
  },
  {
   "cell_type": "markdown",
   "metadata": {},
   "source": [
    "# 문제 1\n",
    "\n",
    "www.google.com 의 HTML 문서를 출력하시오."
   ]
  },
  {
   "cell_type": "code",
   "execution_count": null,
   "metadata": {
    "ExecuteTime": {
     "end_time": "2023-03-18T13:02:35.207747Z",
     "start_time": "2023-03-18T13:02:35.009480Z"
    }
   },
   "outputs": [],
   "source": []
  },
  {
   "cell_type": "markdown",
   "metadata": {},
   "source": [
    "# 문제 2\n",
    "\n",
    "www.daum.net 홈페이지를 요청하고 HTTP status code를 출력하시오."
   ]
  },
  {
   "cell_type": "code",
   "execution_count": null,
   "metadata": {
    "ExecuteTime": {
     "end_time": "2023-03-18T13:02:49.129886Z",
     "start_time": "2023-03-18T13:02:48.817326Z"
    }
   },
   "outputs": [],
   "source": []
  },
  {
   "cell_type": "markdown",
   "metadata": {},
   "source": [
    "# 문제 3\n",
    "\n",
    "url의 적합성을 체크하는 함수를 만드시오.\n",
    "1. url 요청이 성공 했다면, 'success', url, status code를 출력하시오.\n",
    "1. url 요청이 실패하면 'fail'과 url, status code를 출력하시오.\n",
    "\n",
    "***실행결과***\n",
    "```\n",
    "success: https://www.naver.com/, 200\n",
    "failed: https://www.naver.com/a, 404\n",
    "```"
   ]
  },
  {
   "cell_type": "code",
   "execution_count": 1,
   "metadata": {
    "ExecuteTime": {
     "end_time": "2022-03-21T00:43:20.279235Z",
     "start_time": "2022-03-21T00:43:20.149630Z"
    }
   },
   "outputs": [],
   "source": [
    "def check_url(url):\n",
    "    pass\n",
    "\n",
    "## 아래는 수정하지 마시오.\n",
    "check_url('https://www.naver.com/')\n",
    "check_url('https://www.naver.com/a')\n"
   ]
  },
  {
   "cell_type": "markdown",
   "metadata": {},
   "source": [
    "# 문제 4\n",
    "아래와 같이 url의 응답 헤더의 내용을 출력하는 함수를 만드시오.(일부 내용이 아래와 다르게 출력될 수 있음)\n",
    "```\n",
    "[구글 헤더]\n",
    "Date:Mon, 06 Apr 2020 02:22:06 GMT\n",
    "Expires:-1\n",
    "Cache-Control:private, max-age=0\n",
    "Content-Type:text/html; charset=ISO-8859-1\n",
    "P3P:CP=\"This is not a P3P policy! See g.co/p3phelp for more info.\"\n",
    "Content-Encoding:gzip\n",
    "Server:gws\n",
    "Content-Length:5535\n",
    "X-XSS-Protection:0\n",
    "X-Frame-Options:SAMEORIGIN\n",
    "Set-Cookie:1P_JAR=2020-04-06-02; expires=Wed, 06-May-2020 02:22:06 GMT; path=/; domain=.google.com; Secure, NID=201=HKskqrHt8c0ZlLBbtcvfTrj3XZGhUv4YWy0rCz7mFassoWp68gOQkvC2oy1OIgD4Ftn-d1NCu2tydeWnxrz5gYbnQUfdChnsVM953EBpl43k2r-TpNLdnehmg7SmuI2P604U6N0z1n7az9w5yEW5uJoz7fiaLDWpBQ1cuYbUXow; expires=Tue, 06-Oct-2020 02:22:06 GMT; path=/; domain=.google.com; HttpOnly\n",
    "\n",
    "[다음 헤더]\n",
    "Date:Mon, 06 Apr 2020 02:22:06 GMT\n",
    "X-Frame-Options:SAMEORIGIN\n",
    "X-UA-Compatible:IE=10\n",
    "Expires:Sat, 01, Jan 1970 22:00:00 GMT\n",
    "Pragma:no-cache\n",
    "Cache-Control:no-cache, no-store, must-revalidate\n",
    "P3P:CP=\"ALL DSP COR MON LAW IVDi HIS IVAi DELi SAMi OUR LEG PHY UNI ONL DEM STA INT NAV PUR FIN OTC GOV\"\n",
    "Content-Type:text/html;charset=UTF-8\n",
    "Content-Language:en-US\n",
    "Vary:Accept-Encoding\n",
    "Content-Encoding:gzip\n",
    "X-UA-Device-Type:pc\n",
    "Content-Length:44158\n",
    "Connection:close\n",
    "```"
   ]
  },
  {
   "cell_type": "code",
   "execution_count": 2,
   "metadata": {
    "ExecuteTime": {
     "end_time": "2022-03-21T00:43:53.382126Z",
     "start_time": "2022-03-21T00:43:53.165623Z"
    },
    "scrolled": false
   },
   "outputs": [
    {
     "name": "stdout",
     "output_type": "stream",
     "text": [
      "[구글 헤더]\n",
      "\n",
      "[다음 헤더]\n"
     ]
    }
   ],
   "source": [
    "def print_header(url):\n",
    "    pass\n",
    "\n",
    "\n",
    "#아래는 수정하지 마시오.\n",
    "print(\"[구글 헤더]\")\n",
    "print_header('http://www.google.com')\n",
    "print()\n",
    "print(\"[다음 헤더]\")\n",
    "print_header('http://www.daum.net')\n"
   ]
  }
 ],
 "metadata": {
  "kernelspec": {
   "display_name": "Python 3 (ipykernel)",
   "language": "python",
   "name": "python3"
  },
  "language_info": {
   "codemirror_mode": {
    "name": "ipython",
    "version": 3
   },
   "file_extension": ".py",
   "mimetype": "text/x-python",
   "name": "python",
   "nbconvert_exporter": "python",
   "pygments_lexer": "ipython3",
   "version": "3.9.13"
  },
  "toc": {
   "base_numbering": 1,
   "nav_menu": {},
   "number_sections": true,
   "sideBar": true,
   "skip_h1_title": false,
   "title_cell": "Table of Contents",
   "title_sidebar": "Contents",
   "toc_cell": false,
   "toc_position": {},
   "toc_section_display": true,
   "toc_window_display": false
  }
 },
 "nbformat": 4,
 "nbformat_minor": 2
}
